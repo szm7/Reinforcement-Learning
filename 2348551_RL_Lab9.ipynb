{
  "cells": [
    {
      "cell_type": "markdown",
      "metadata": {
        "id": "view-in-github",
        "colab_type": "text"
      },
      "source": [
        "<a href=\"https://colab.research.google.com/github/rahul-727/Reinforcement-Learning-/blob/main/2348544_Lab9_RL.ipynb\" target=\"_parent\"><img src=\"https://colab.research.google.com/assets/colab-badge.svg\" alt=\"Open In Colab\"/></a>"
      ]
    },
    {
      "cell_type": "code",
      "execution_count": 7,
      "metadata": {
        "id": "oM4XoOKr9mH4"
      },
      "outputs": [],
      "source": [
        "import numpy as np\n",
        "import matplotlib.pyplot as plt"
      ]
    },
    {
      "cell_type": "markdown",
      "source": [
        "Gridworld environment"
      ],
      "metadata": {
        "id": "Soyf16pS4kLn"
      }
    },
    {
      "cell_type": "markdown",
      "source": [
        "A grid-based environment where an agent starts at a position and tries to reach a goal while avoiding obstacles.\n",
        "\n",
        "Rewards:\n",
        "* +1 for reaching the goal.\n",
        "* -0.1 for each step to encourage efficiency."
      ],
      "metadata": {
        "id": "0ik-PeZx5crq"
      }
    },
    {
      "cell_type": "code",
      "source": [
        "class GridWorld:\n",
        "    def __init__(self, size=(5, 5), start=(0, 0), goal=(4, 4), obstacles=[]):\n",
        "        self.size = size\n",
        "        self.start = start\n",
        "        self.goal = goal\n",
        "        self.obstacles = obstacles\n",
        "        self.reset()\n",
        "\n",
        "    def reset(self):\n",
        "        self.agent_position = self.start\n",
        "        return self.agent_position\n",
        "\n",
        "    def step(self, action):\n",
        "        x, y = self.agent_position\n",
        "        if action == 0 and x > 0:\n",
        "            x -= 1\n",
        "        elif action == 1 and x < self.size[0] - 1:\n",
        "            x += 1\n",
        "        elif action == 2 and y > 0:\n",
        "            y -= 1\n",
        "        elif action == 3 and y < self.size[1] - 1:\n",
        "            y += 1\n",
        "\n",
        "        next_position = (x, y)\n",
        "\n",
        "        # Check for obstacles\n",
        "        if next_position in self.obstacles:\n",
        "            next_position = self.agent_position\n",
        "\n",
        "        self.agent_position = next_position\n",
        "\n",
        "        # Check if goal is reached\n",
        "        if self.agent_position == self.goal:\n",
        "            reward = 1\n",
        "            done = True\n",
        "        else:\n",
        "            reward = -0.1\n",
        "            done = False\n",
        "\n",
        "        return self.agent_position, reward, done\n",
        "\n",
        "    def render(self):\n",
        "        grid = np.zeros(self.size)\n",
        "        grid[self.goal] = 2\n",
        "        for obs in self.obstacles:\n",
        "            grid[obs] = -1\n",
        "        grid[self.agent_position] = 1\n",
        "\n",
        "        print(grid)"
      ],
      "metadata": {
        "id": "sz3BA13N4lYi"
      },
      "execution_count": 8,
      "outputs": []
    },
    {
      "cell_type": "markdown",
      "source": [
        "TD(0) learning agent"
      ],
      "metadata": {
        "id": "bflHfql44y7M"
      }
    },
    {
      "cell_type": "markdown",
      "source": [
        "* Uses TD(0) for updating Q-values based on immediate rewards and estimated future rewards.\n",
        "* Uses epsilon-greedy policy for exploration and exploitation."
      ],
      "metadata": {
        "id": "vOq1UdVi5m24"
      }
    },
    {
      "cell_type": "code",
      "source": [
        "class TDAgent:\n",
        "    def __init__(self, env, alpha=0.1, gamma=0.9, epsilon=0.1):\n",
        "        self.env = env\n",
        "        self.alpha = alpha\n",
        "        self.gamma = gamma\n",
        "        self.epsilon = epsilon\n",
        "        self.q_table = np.zeros((*env.size, 4))\n",
        "\n",
        "    def choose_action(self, state):\n",
        "        if np.random.rand() < self.epsilon:\n",
        "            return np.random.choice(4)\n",
        "        else:\n",
        "            x, y = state\n",
        "            return np.argmax(self.q_table[x, y])\n",
        "\n",
        "    def update(self, state, action, reward, next_state):\n",
        "        x, y = state\n",
        "        next_x, next_y = next_state\n",
        "\n",
        "        best_next_action = np.max(self.q_table[next_x, next_y])\n",
        "        td_target = reward + self.gamma * best_next_action\n",
        "        td_error = td_target - self.q_table[x, y, action]\n",
        "\n",
        "        self.q_table[x, y, action] += self.alpha * td_error\n",
        "\n",
        "    def train(self, episodes):\n",
        "        rewards = []\n",
        "        for episode in range(episodes):\n",
        "            state = self.env.reset()\n",
        "            total_reward = 0\n",
        "            done = False\n",
        "\n",
        "            while not done:\n",
        "                action = self.choose_action(state)\n",
        "                next_state, reward, done = self.env.step(action)\n",
        "                self.update(state, action, reward, next_state)\n",
        "\n",
        "                state = next_state\n",
        "                total_reward += reward\n",
        "\n",
        "            rewards.append(total_reward)\n",
        "\n",
        "        return rewards"
      ],
      "metadata": {
        "id": "1Q1Qvx7c4wlb"
      },
      "execution_count": 9,
      "outputs": []
    },
    {
      "cell_type": "markdown",
      "source": [
        "* The agent learns over multiple episodes, improving its Q-value estimates for state-action pairs."
      ],
      "metadata": {
        "id": "teVegQbJ5sf-"
      }
    },
    {
      "cell_type": "code",
      "source": [
        "env = GridWorld(obstacles=[(1, 1), (2, 2), (3, 3)])\n",
        "agent = TDAgent(env)\n",
        "\n",
        "# Train the agent\n",
        "rewards = agent.train(episodes=500)"
      ],
      "metadata": {
        "id": "hGtTixT248gK"
      },
      "execution_count": 10,
      "outputs": []
    },
    {
      "cell_type": "code",
      "source": [
        "plt.plot(rewards)\n",
        "plt.xlabel('Episodes')\n",
        "plt.ylabel('Total Reward')\n",
        "plt.title('TD(0) Learning Rewards')\n",
        "plt.show()"
      ],
      "metadata": {
        "colab": {
          "base_uri": "https://localhost:8080/",
          "height": 472
        },
        "id": "wM7bcdid4_E5",
        "outputId": "0d8e9d3f-492f-4c41-caa2-9716b18b21d6"
      },
      "execution_count": 11,
      "outputs": [
        {
          "output_type": "display_data",
          "data": {
            "text/plain": [
              "<Figure size 640x480 with 1 Axes>"
            ],
            "image/png": "[encoded data removed]"
          },
          "metadata": {}
        }
      ]
    },
    {
      "cell_type": "markdown",
      "source": [
        "from the graph\n",
        "* At the start, the agent receives significant negative rewards. This suggests that the agent was exploring inefficient or suboptimal paths in the early episodes, leading to more penalties for longer steps.\n",
        "* Over the episodes, the total reward improves, which indicates that the agent is learning better policies to navigate the gridworld.\n",
        "* After around 100–200 episodes, the rewards stabilize close to 0. This implies that the agent has mostly learned an optimal or near-optimal policy for navigating the environment with minimal penalties."
      ],
      "metadata": {
        "id": "Pfsp-HO65xUH"
      }
    },
    {
      "cell_type": "markdown",
      "source": [
        "Test the trained agent"
      ],
      "metadata": {
        "id": "fllZ-2XC5ENW"
      }
    },
    {
      "cell_type": "code",
      "source": [
        "env.reset()\n",
        "state = env.start\n",
        "env.render()\n",
        "done = False\n",
        "\n",
        "while not done:\n",
        "    action = agent.choose_action(state)\n",
        "    state, _, done = env.step(action)\n",
        "    env.render()"
      ],
      "metadata": {
        "colab": {
          "base_uri": "https://localhost:8080/"
        },
        "id": "9GAKyW_a5Bsc",
        "outputId": "4fababa9-a945-49fe-9068-d055b5d50da0"
      },
      "execution_count": 12,
      "outputs": [
        {
          "output_type": "stream",
          "name": "stdout",
          "text": [
            "[[ 1.  0.  0.  0.  0.]\n",
            " [ 0. -1.  0.  0.  0.]\n",
            " [ 0.  0. -1.  0.  0.]\n",
            " [ 0.  0.  0. -1.  0.]\n",
            " [ 0.  0.  0.  0.  2.]]\n",
            "[[ 0.  1.  0.  0.  0.]\n",
            " [ 0. -1.  0.  0.  0.]\n",
            " [ 0.  0. -1.  0.  0.]\n",
            " [ 0.  0.  0. -1.  0.]\n",
            " [ 0.  0.  0.  0.  2.]]\n",
            "[[ 0.  0.  1.  0.  0.]\n",
            " [ 0. -1.  0.  0.  0.]\n",
            " [ 0.  0. -1.  0.  0.]\n",
            " [ 0.  0.  0. -1.  0.]\n",
            " [ 0.  0.  0.  0.  2.]]\n",
            "[[ 0.  0.  0.  1.  0.]\n",
            " [ 0. -1.  0.  0.  0.]\n",
            " [ 0.  0. -1.  0.  0.]\n",
            " [ 0.  0.  0. -1.  0.]\n",
            " [ 0.  0.  0.  0.  2.]]\n",
            "[[ 0.  0.  0.  0.  0.]\n",
            " [ 0. -1.  0.  1.  0.]\n",
            " [ 0.  0. -1.  0.  0.]\n",
            " [ 0.  0.  0. -1.  0.]\n",
            " [ 0.  0.  0.  0.  2.]]\n",
            "[[ 0.  0.  0.  0.  0.]\n",
            " [ 0. -1.  1.  0.  0.]\n",
            " [ 0.  0. -1.  0.  0.]\n",
            " [ 0.  0.  0. -1.  0.]\n",
            " [ 0.  0.  0.  0.  2.]]\n",
            "[[ 0.  0.  0.  0.  0.]\n",
            " [ 0. -1.  1.  0.  0.]\n",
            " [ 0.  0. -1.  0.  0.]\n",
            " [ 0.  0.  0. -1.  0.]\n",
            " [ 0.  0.  0.  0.  2.]]\n",
            "[[ 0.  0.  0.  0.  0.]\n",
            " [ 0. -1.  0.  1.  0.]\n",
            " [ 0.  0. -1.  0.  0.]\n",
            " [ 0.  0.  0. -1.  0.]\n",
            " [ 0.  0.  0.  0.  2.]]\n",
            "[[ 0.  0.  0.  0.  0.]\n",
            " [ 0. -1.  0.  0.  1.]\n",
            " [ 0.  0. -1.  0.  0.]\n",
            " [ 0.  0.  0. -1.  0.]\n",
            " [ 0.  0.  0.  0.  2.]]\n",
            "[[ 0.  0.  0.  0.  0.]\n",
            " [ 0. -1.  0.  0.  0.]\n",
            " [ 0.  0. -1.  0.  1.]\n",
            " [ 0.  0.  0. -1.  0.]\n",
            " [ 0.  0.  0.  0.  2.]]\n",
            "[[ 0.  0.  0.  0.  0.]\n",
            " [ 0. -1.  0.  0.  0.]\n",
            " [ 0.  0. -1.  0.  0.]\n",
            " [ 0.  0.  0. -1.  1.]\n",
            " [ 0.  0.  0.  0.  2.]]\n",
            "[[ 0.  0.  0.  0.  0.]\n",
            " [ 0. -1.  0.  0.  0.]\n",
            " [ 0.  0. -1.  0.  0.]\n",
            " [ 0.  0.  0. -1.  0.]\n",
            " [ 0.  0.  0.  0.  1.]]\n"
          ]
        }
      ]
    },
    {
      "cell_type": "markdown",
      "source": [
        "The above matrices represent a step-by-step update of a gridworld environment\n",
        "* Positive values like 1 and 2 likely represent a start state or a reward (goal).\n",
        "* -1 represents obstacles or walls (inaccessible states).\n",
        "* 0 represents regular grid cells where the agent can move."
      ],
      "metadata": {
        "id": "VO8vu_386InF"
      }
    }
  ],
  "metadata": {
    "accelerator": "GPU",
    "colab": {
      "gpuType": "T4",
      "provenance": [],
      "authorship_tag": "ABX9TyMiQiRn+PnaXjtgipkLmpPB",
      "include_colab_link": true
    },
    "kernelspec": {
      "display_name": "Python 3",
      "name": "python3"
    },
    "language_info": {
      "name": "python"
    }
  },
  "nbformat": 4,
  "nbformat_minor": 0
}