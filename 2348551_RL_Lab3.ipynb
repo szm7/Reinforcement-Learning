{
  "nbformat": 4,
  "nbformat_minor": 0,
  "metadata": {
    "colab": {
      "provenance": [],
      "authorship_tag": "ABX9TyM9DjYbzV8+8BOoT1BhOnik",
      "include_colab_link": true
    },
    "kernelspec": {
      "name": "python3",
      "display_name": "Python 3"
    },
    "language_info": {
      "name": "python"
    }
  },
  "cells": [
    {
      "cell_type": "markdown",
      "metadata": {
        "id": "view-in-github",
        "colab_type": "text"
      },
      "source": [
        "<a href=\"https://colab.research.google.com/github/rahul-727/Reinforcement-Learning-/blob/main/2348544_Lab3_RL.ipynb\" target=\"_parent\"><img src=\"https://colab.research.google.com/assets/colab-badge.svg\" alt=\"Open In Colab\"/></a>"
      ]
    },
    {
      "cell_type": "code",
      "execution_count": null,
      "metadata": {
        "colab": {
          "base_uri": "https://localhost:8080/"
        },
        "id": "ka5ZwFWzmVqu",
        "outputId": "06c67a11-c9d3-4bcb-bf63-26142afd2ea7"
      },
      "outputs": [
        {
          "output_type": "stream",
          "name": "stdout",
          "text": [
            "Converged after 82 iterations.\n",
            "Optimal Value Function: [48.52841551 42.43085454 56.5597744 ]\n",
            "Optimal Policy (action to take at each state): [0 1 0]\n"
          ]
        }
      ],
      "source": [
        "import numpy as np\n",
        "\n",
        "# Define the MDP Environment\n",
        "class MDP:\n",
        "    def __init__(self, states, actions, transition_prob, rewards, gamma=0.9):\n",
        "        self.states = states\n",
        "        self.actions = actions\n",
        "        self.transition_prob = transition_prob  # Probabilities of moving from one state to another, given an action\n",
        "        self.rewards = rewards  # Reward matrix R[s, a, s']\n",
        "        self.gamma = gamma  # Discount factor\n",
        "\n",
        "    # Value Iteration Algorithm\n",
        "    def value_iteration(self, threshold=0.001):\n",
        "        # Initialize value function for all states to zero\n",
        "        V = np.zeros(len(self.states))\n",
        "        policy = np.zeros(len(self.states), dtype=int)  # Optimal policy\n",
        "\n",
        "        iteration = 0\n",
        "        while True:\n",
        "            delta = 0  # Change in value function\n",
        "            new_V = np.copy(V)\n",
        "\n",
        "            for s in range(len(self.states)):\n",
        "                # Calculate the value of each action in state 's'\n",
        "                action_values = np.zeros(len(self.actions))\n",
        "                for a in range(len(self.actions)):\n",
        "                    action_value = 0\n",
        "                    for next_state in range(len(self.states)):\n",
        "                        prob = self.transition_prob[s, a, next_state]\n",
        "                        reward = self.rewards[s, a, next_state]\n",
        "                        action_value += prob * (reward + self.gamma * V[next_state])\n",
        "                    action_values[a] = action_value\n",
        "\n",
        "                # Update the value of the state to the maximum action value\n",
        "                best_action_value = np.max(action_values)\n",
        "                new_V[s] = best_action_value\n",
        "                policy[s] = np.argmax(action_values)  # Store the best action\n",
        "\n",
        "                # Calculate the maximum difference between old and new value function\n",
        "                delta = max(delta, abs(new_V[s] - V[s]))\n",
        "\n",
        "            V = new_V\n",
        "            iteration += 1\n",
        "\n",
        "            # Stop if the change in value function is below the threshold\n",
        "            if delta < threshold:\n",
        "                break\n",
        "\n",
        "        print(f\"Converged after {iteration} iterations.\")\n",
        "        return V, policy\n",
        "\n",
        "\n",
        "# Define the states, actions, transition probabilities, and rewards\n",
        "states = [0, 1, 2]  # Example: 3 states\n",
        "actions = [0, 1]  # Example: 2 actions\n",
        "\n",
        "# Transition probability matrix P[s, a, s']\n",
        "transition_prob = np.array([\n",
        "    [[0.7, 0.3, 0], [0.4, 0.6, 0]],  # From state 0: action 0 and 1\n",
        "    [[0.1, 0.8, 0.1], [0.5, 0.5, 0]],  # From state 1: action 0 and 1\n",
        "    [[0, 0.2, 0.8], [0.3, 0.7, 0]],  # From state 2: action 0 and 1\n",
        "])\n",
        "\n",
        "# Reward matrix R[s, a, s']\n",
        "rewards = np.array([\n",
        "    [[5, 10, 0], [1, 3, 0]],  # Rewards from state 0\n",
        "    [[0, 2, 1], [1, 2, 0]],   # Rewards from state 1\n",
        "    [[0, 1, 10], [1, 5, 0]],  # Rewards from state 2\n",
        "])\n",
        "\n",
        "# Initialize the MDP\n",
        "mdp = MDP(states, actions, transition_prob, rewards, gamma=0.9)\n",
        "\n",
        "# Perform Value Iteration\n",
        "V, policy = mdp.value_iteration()\n",
        "\n",
        "# Output the results\n",
        "print(\"Optimal Value Function:\", V)\n",
        "print(\"Optimal Policy (action to take at each state):\", policy)\n"
      ]
    },
    {
      "cell_type": "code",
      "source": [],
      "metadata": {
        "id": "LCCRsJ0zEkxO"
      },
      "execution_count": null,
      "outputs": []
    }
  ]
}