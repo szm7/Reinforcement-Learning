{
  "nbformat": 4,
  "nbformat_minor": 0,
  "metadata": {
    "colab": {
      "provenance": [],
      "authorship_tag": "ABX9TyNdbiNn0RJPjSRwz9JRXNc3",
      "include_colab_link": true
    },
    "kernelspec": {
      "name": "python3",
      "display_name": "Python 3"
    },
    "language_info": {
      "name": "python"
    }
  },
  "cells": [
    {
      "cell_type": "markdown",
      "metadata": {
        "id": "view-in-github",
        "colab_type": "text"
      },
      "source": [
        "<a href=\"https://colab.research.google.com/github/rahul-727/Reinforcement-Learning-/blob/main/2348544_Lab8_RL.ipynb\" target=\"_parent\"><img src=\"https://colab.research.google.com/assets/colab-badge.svg\" alt=\"Open In Colab\"/></a>"
      ]
    },
    {
      "cell_type": "markdown",
      "source": [
        "Environment and TD(0) Implementation\n",
        "*  Implementation of the TD(0) algorithm for a simple environment where an agent moves through a 1D grid with five states.\n",
        "* Agent starts at a random state, and its actions result in moving left or right. The terminal states are state 1 and state 5."
      ],
      "metadata": {
        "id": "tKQtluMw5agY"
      }
    },
    {
      "cell_type": "code",
      "execution_count": 2,
      "metadata": {
        "id": "EDVOqHfy5UvF"
      },
      "outputs": [],
      "source": [
        "import numpy as np\n",
        "import random"
      ]
    },
    {
      "cell_type": "markdown",
      "source": [
        "* States 1 and 5 are terminal states.\n",
        "* A reward of +1 is given for reaching state 5, and -1 for reaching state 1.\n",
        "* Rewards for non-terminal transitions are 0."
      ],
      "metadata": {
        "id": "UB0KFEyH6JN6"
      }
    },
    {
      "cell_type": "code",
      "source": [
        "class GridEnvironment:\n",
        "    def __init__(self, num_states=5):\n",
        "        self.num_states = num_states\n",
        "        self.state = random.randint(2, num_states - 1)  # Start in a random non-terminal state\n",
        "        self.terminal_states = [1, num_states]\n",
        "\n",
        "    def reset(self):\n",
        "        self.state = random.randint(2, self.num_states - 1)  # Reset to a random non-terminal state\n",
        "        return self.state\n",
        "\n",
        "    def step(self, action):\n",
        "        \"\"\"\n",
        "        Move the agent based on the action.\n",
        "        Action -1: Move left, Action +1: Move right.\n",
        "        Returns (next_state, reward, done)\n",
        "        \"\"\"\n",
        "        self.state += action\n",
        "        if self.state in self.terminal_states:\n",
        "            reward = 1 if self.state == self.num_states else -1\n",
        "            done = True\n",
        "        else:\n",
        "            reward = 0\n",
        "            done = False\n",
        "        return self.state, reward, done"
      ],
      "metadata": {
        "id": "0QX4YPlu5byE"
      },
      "execution_count": 3,
      "outputs": []
    },
    {
      "cell_type": "markdown",
      "source": [
        "The value of a state is updated incrementally after each step using the rule:\n",
        "V(s)←V(s)+α[r+γV(s′)−V(s)]"
      ],
      "metadata": {
        "id": "JlMM4JE56V9p"
      }
    },
    {
      "cell_type": "code",
      "source": [
        "def td_zero(env, num_episodes, alpha, gamma):\n",
        "    V = np.zeros(env.num_states + 1)\n",
        "\n",
        "    for episode in range(num_episodes):\n",
        "        state = env.reset()\n",
        "        done = False\n",
        "\n",
        "        while not done:\n",
        "            action = random.choice([-1, 1])  # Randomly choose to move left or right\n",
        "            next_state, reward, done = env.step(action)\n",
        "            V[state] += alpha * (reward + gamma * V[next_state] - V[state])\n",
        "\n",
        "            state = next_state  # Transition to next state\n",
        "\n",
        "    return V"
      ],
      "metadata": {
        "id": "WvTuQ1t351IN"
      },
      "execution_count": 5,
      "outputs": []
    },
    {
      "cell_type": "code",
      "source": [
        "if __name__ == \"__main__\":\n",
        "    env = GridEnvironment()\n",
        "    num_episodes = 1000\n",
        "    alpha = 0.1  # Learning rate\n",
        "    gamma = 0.9  # Discount factor\n",
        "\n",
        "    value_function = td_zero(env, num_episodes, alpha, gamma)\n",
        "    print(\"Learned Value Function:\")\n",
        "    for state in range(1, env.num_states + 1):\n",
        "        print(f\"State {state}: {value_function[state]:.2f}\")"
      ],
      "metadata": {
        "colab": {
          "base_uri": "https://localhost:8080/"
        },
        "id": "FXp36DbP54yA",
        "outputId": "2baa8c43-da31-4f66-b19f-14a30c03bcae"
      },
      "execution_count": 6,
      "outputs": [
        {
          "output_type": "stream",
          "name": "stdout",
          "text": [
            "Learned Value Function:\n",
            "State 1: 0.00\n",
            "State 2: -0.37\n",
            "State 3: 0.01\n",
            "State 4: 0.55\n",
            "State 5: 0.00\n"
          ]
        }
      ]
    },
    {
      "cell_type": "markdown",
      "source": [
        "* State 1 and State 5 are terminal states, so their values are fixed at 0 in this case.\n",
        "* State 2 has a negative value (-0.37), indicating that it is from the goal (state 5)\n",
        "* State 3 has a small positive value (0.01), reflecting a state that is somewhat neutral in its expected return—it's closer to both terminal states and can be seen as a \"transitional\" state.\n",
        "* State 4 has a relatively high positive value (0.55), which is closer to state 5"
      ],
      "metadata": {
        "id": "mKEYZdbU6q-k"
      }
    }
  ]
}